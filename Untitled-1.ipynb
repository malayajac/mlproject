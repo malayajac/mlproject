{
 "cells": [
  {
   "attachments": {},
   "cell_type": "markdown",
   "metadata": {},
   "source": [
    "Agenda\n",
    "\n",
    "1. Set up the github repo.\n",
    "    1. New env\n",
    "    2. setup.py\n",
    "    3. requirements.txt\n",
    "\n",
    "2. Created src folder and built the package."
   ]
  },
  {
   "attachments": {},
   "cell_type": "markdown",
   "metadata": {},
   "source": []
  },
  {
   "cell_type": "code",
   "execution_count": 1,
   "metadata": {},
   "outputs": [],
   "source": [
    "requirements = []"
   ]
  },
  {
   "cell_type": "code",
   "execution_count": 3,
   "metadata": {},
   "outputs": [],
   "source": [
    "file_path = \"requirements.txt\""
   ]
  },
  {
   "cell_type": "code",
   "execution_count": 11,
   "metadata": {},
   "outputs": [],
   "source": [
    "file_obj = open(file_path, \"r\")\n",
    "requirements = file_obj.readlines()"
   ]
  },
  {
   "cell_type": "code",
   "execution_count": 12,
   "metadata": {},
   "outputs": [
    {
     "data": {
      "text/plain": [
       "['pandas\\n', 'numpy\\n', 'seaborn\\n', '-e .']"
      ]
     },
     "execution_count": 12,
     "metadata": {},
     "output_type": "execute_result"
    }
   ],
   "source": [
    "requirements"
   ]
  },
  {
   "cell_type": "code",
   "execution_count": 13,
   "metadata": {},
   "outputs": [],
   "source": [
    "requirements = [req.replace(\"\\n\", \"\") for req in requirements]"
   ]
  },
  {
   "cell_type": "code",
   "execution_count": null,
   "metadata": {},
   "outputs": [],
   "source": [
    "def get_requirements(file_path:str)->List[str]:\n",
    "    '''\n",
    "    This function will return the list of requirements.\n",
    "    '''\n",
    "    requirements = []\n",
    "    with open(file_path) as file_obj:\n",
    "        requirements = file_obj.readlines\n",
    "        requirements = [req.replace(\"\\n\", \"\") for req in requirements]\n",
    "        if HYPHEN_E_DOT in requirements:\n",
    "            requirements.remove(HYPHEN_E_DOT)\n",
    "    \n",
    "    return requirements\n"
   ]
  }
 ],
 "metadata": {
  "kernelspec": {
   "display_name": "Python 3",
   "language": "python",
   "name": "python3"
  },
  "language_info": {
   "codemirror_mode": {
    "name": "ipython",
    "version": 3
   },
   "file_extension": ".py",
   "mimetype": "text/x-python",
   "name": "python",
   "nbconvert_exporter": "python",
   "pygments_lexer": "ipython3",
   "version": "3.8.0"
  },
  "orig_nbformat": 4
 },
 "nbformat": 4,
 "nbformat_minor": 2
}
